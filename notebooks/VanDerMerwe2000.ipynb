{
 "cells": [
  {
   "cell_type": "markdown",
   "metadata": {},
   "source": [
    "# Demo: The Unscented Particle Filter"
   ]
  },
  {
   "cell_type": "raw",
   "metadata": {},
   "source": [
    "{% reference VanDerMerwe2000 %}"
   ]
  },
  {
   "cell_type": "code",
   "execution_count": 1,
   "metadata": {
    "collapsed": false
   },
   "outputs": [
    {
     "name": "stderr",
     "output_type": "stream",
     "text": [
      "/Users/jhamrick/miniconda3/lib/python3.5/site-packages/matplotlib/__init__.py:872: UserWarning: axes.color_cycle is deprecated and replaced with axes.prop_cycle; please use the latter.\n",
      "  warnings.warn(self.msg_depr % (key, alt_key))\n"
     ]
    }
   ],
   "source": [
    "%matplotlib inline\n",
    "\n",
    "import numpy as np\n",
    "import matplotlib.pyplot as plt\n",
    "import scipy.stats"
   ]
  },
  {
   "cell_type": "markdown",
   "metadata": {},
   "source": [
    "## True model"
   ]
  },
  {
   "cell_type": "code",
   "execution_count": 2,
   "metadata": {
    "collapsed": true
   },
   "outputs": [],
   "source": [
    "def transition_func(x, t, omega=4*np.e-2, phi=0.5):\n",
    "    return 1 + np.sin(omega * np.pi * t) + phi * x\n",
    "\n",
    "def transition(x, t, omega=4*np.e-2, phi=0.5):\n",
    "    vt = scipy.stats.gamma.rvs(3, scale=1/2)\n",
    "    return transition_func(x, t, omega=omega, phi=phi) + vt\n",
    "\n",
    "def transition_density(xnew, xold, t, omega=4*np.e-2, phi=0.5):\n",
    "    xest = transition_func(xold, t, omega=omega, phi=phi)\n",
    "    return scipy.stats.gamma.logpdf(xnew - xest, 3, scale=1/2)\n",
    "\n",
    "def observation_func(x, t, phi1=0.2, phi2=0.5):\n",
    "    if t <= 30:\n",
    "        return phi1 * x ** 2\n",
    "    else:\n",
    "        return phi2 * x - 2\n",
    "    \n",
    "def observation(x, t, phi1=0.2, phi2=0.5):\n",
    "    nt = scipy.stats.norm.rvs(loc=0, scale=np.sqrt(1e-5))\n",
    "    return observation_func(x, t, phi1=phi1, phi2=phi2) + nt\n",
    "    \n",
    "def observation_density(y, x, t, phi1=0.2, phi2=0.5):\n",
    "    yest = observation_func(x, t, phi1=phi1, phi2=phi2)\n",
    "    return scipy.stats.norm.logpdf(y - yest, loc=0, scale=np.sqrt(1e-5))"
   ]
  },
  {
   "cell_type": "code",
   "execution_count": 3,
   "metadata": {
    "collapsed": false
   },
   "outputs": [
    {
     "data": {
      "text/plain": [
       "<matplotlib.text.Text at 0x107c71278>"
      ]
     },
     "execution_count": 3,
     "metadata": {},
     "output_type": "execute_result"
    },
    {
     "data": {
      "image/png": "[encoded data removed]",
      "text/plain": [
       "<matplotlib.figure.Figure at 0x107c41278>"
      ]
     },
     "metadata": {},
     "output_type": "display_data"
    }
   ],
   "source": [
    "Xorig = np.empty(60)\n",
    "Xorig[0] = 1\n",
    "Yorig = np.empty(60)\n",
    "Yorig[0] = observation(Xorig[0], 0)\n",
    "\n",
    "for t in range(1, 60):\n",
    "    Xorig[t] = transition(Xorig[t-1], t + 1)\n",
    "    Yorig[t] = observation(Xorig[t], t + 1)\n",
    "\n",
    "plt.plot(np.arange(60) + 1, Xorig, '-')\n",
    "plt.xlabel('Time')\n",
    "plt.ylabel('X')"
   ]
  },
  {
   "cell_type": "markdown",
   "metadata": {},
   "source": [
    "## Regular particle filter"
   ]
  },
  {
   "cell_type": "code",
   "execution_count": 4,
   "metadata": {
    "collapsed": true
   },
   "outputs": [],
   "source": [
    "def particle_filter(Y, N=200):\n",
    "    # initialization\n",
    "    X = np.empty((len(Y) + 1, N))\n",
    "    w = np.ones((len(Y) + 1, N)) / N\n",
    "    for i in range(N):\n",
    "        X[0, i] = np.random.randn() + 1\n",
    "        \n",
    "    for t in range(len(Y)):\n",
    "        # propagate particles and calculate unnormalized weights\n",
    "        Xtilde = np.empty(N)\n",
    "        wtilde = np.empty(N)\n",
    "        for i in range(N):\n",
    "            Xtilde[i] = transition(X[t, i], t + 1)\n",
    "            wtilde[i] = observation_density(Y[t], Xtilde[i], t + 1)\n",
    "            \n",
    "        # normalize weights\n",
    "        w[t + 1] = np.exp(wtilde - scipy.misc.logsumexp(wtilde))\n",
    "        w[t + 1] /= np.sum(w[t + 1])\n",
    "        \n",
    "        # resample particles\n",
    "        X[t + 1] = Xtilde[np.random.choice(np.arange(N), size=N, p=w[t + 1])]\n",
    "        \n",
    "        # MCMC step\n",
    "        for i in range(N):\n",
    "            u = np.random.rand()\n",
    "            x = transition(X[t, i], t)\n",
    "            p_x = np.exp(observation_density(Y[t], x, t + 1))\n",
    "            p_xtilde = np.exp(observation_density(Y[t], X[t + 1, i], t + 1))\n",
    "            if u <= min(1, p_x / p_xtilde):\n",
    "                X[t + 1, i] = x\n",
    "                \n",
    "    return X, w"
   ]
  },
  {
   "cell_type": "code",
   "execution_count": 5,
   "metadata": {
    "collapsed": false
   },
   "outputs": [
    {
     "name": "stderr",
     "output_type": "stream",
     "text": [
      "/Users/jhamrick/miniconda3/lib/python3.5/site-packages/ipykernel/__main__.py:29: RuntimeWarning: invalid value encountered in double_scalars\n",
      "/Users/jhamrick/miniconda3/lib/python3.5/site-packages/ipykernel/__main__.py:29: RuntimeWarning: divide by zero encountered in double_scalars\n"
     ]
    }
   ],
   "source": [
    "particles = particle_filter(Yorig)\n",
    "Xest = particles[0][1:].mean(axis=1)"
   ]
  },
  {
   "cell_type": "code",
   "execution_count": 6,
   "metadata": {
    "collapsed": false
   },
   "outputs": [
    {
     "data": {
      "text/plain": [
       "<matplotlib.text.Text at 0x107d2ce48>"
      ]
     },
     "execution_count": 6,
     "metadata": {},
     "output_type": "execute_result"
    },
    {
     "data": {
      "image/png": "[encoded data removed]",
      "text/plain": [
       "<matplotlib.figure.Figure at 0x107c62908>"
      ]
     },
     "metadata": {},
     "output_type": "display_data"
    }
   ],
   "source": [
    "plt.plot(np.arange(60) + 1, Xorig, 'ko')\n",
    "plt.plot(np.arange(60) + 1, Xest, 'r-')\n",
    "plt.xlabel('Time')\n",
    "plt.ylabel('E[X]')"
   ]
  },
  {
   "cell_type": "markdown",
   "metadata": {},
   "source": [
    "## Unscented particle filter"
   ]
  },
  {
   "cell_type": "code",
   "execution_count": 7,
   "metadata": {
    "collapsed": true
   },
   "outputs": [],
   "source": [
    "def calc_sigma_weights(n=1, alpha=1, kappa=2, beta=0):\n",
    "    lam = alpha ** 2 * (n + kappa) - n\n",
    "    Wm = np.empty(2 * n + 1)\n",
    "    Wc = np.empty(2 * n + 1)\n",
    "    Wm[0] = lam / (n + lam)\n",
    "    Wc[0] = (lam / (n + lam)) + (1 - alpha ** 2 + beta)\n",
    "    for i in range(1, 2 * n + 1):\n",
    "        Wm[i] = 1 / (2 * (n + lam))\n",
    "        Wc[i] = 1 / (2 * (n + lam))\n",
    "    return Wm, Wc"
   ]
  },
  {
   "cell_type": "code",
   "execution_count": 8,
   "metadata": {
    "collapsed": true
   },
   "outputs": [],
   "source": [
    "def calc_sigma_points(X, P, n=1, alpha=1, kappa=2):\n",
    "    lam = alpha ** 2 * (n + kappa) - n\n",
    "    sigma = np.zeros(2 * n + 1)\n",
    "    sigma[0] = X.copy()\n",
    "    for i in range(1, n + 1):\n",
    "        sigma[i] = X + np.sqrt((n + lam) * P)\n",
    "        sigma[i + n] = X - np.sqrt((n + lam) * P)\n",
    "    return sigma    "
   ]
  },
  {
   "cell_type": "code",
   "execution_count": 9,
   "metadata": {
    "collapsed": true
   },
   "outputs": [],
   "source": [
    "def unscented_update(Xm_old, P_old, Y_obs, t, n=1):\n",
    "    # calculate sigma points and weights\n",
    "    Wm, Wc = calc_sigma_weights()\n",
    "    sigma = calc_sigma_points(Xm_old, P_old, n=n)\n",
    "\n",
    "    # propagate sigma points\n",
    "    X = np.zeros(2 * n + 1)\n",
    "    Y = np.zeros(2 * n + 1)\n",
    "    for i in range(2 * n + 1):\n",
    "        X[i] = transition(sigma[i], t)\n",
    "        Y[i] = observation(X[i], t)\n",
    "\n",
    "    # compute conditional t|t-1 distributions\n",
    "    Xm_cond = np.sum(Wm * X)\n",
    "    P_cond = np.sum(Wc * (X - Xm_cond) ** 2)\n",
    "    Ym_cond = np.sum(Wm * Y)\n",
    "\n",
    "    # incorporate new observation\n",
    "    Pyy = np.sum(Wc * (Y - Ym_cond) ** 2)\n",
    "    Pxy = np.sum(Wc * (Y - Ym_cond) * (X - Xm_cond))\n",
    "    K = Pxy / Pyy\n",
    "    Xm_new = Xm_cond + K * (Y_obs - Ym_cond)\n",
    "    P_new = P_cond - (K * Pyy * K)\n",
    "    \n",
    "    assert P_new >= 0\n",
    "\n",
    "    return Xm_new, P_new"
   ]
  },
  {
   "cell_type": "code",
   "execution_count": 10,
   "metadata": {
    "collapsed": true
   },
   "outputs": [],
   "source": [
    "def propagate(Xm, P, N):\n",
    "    Xtilde = np.zeros(N)\n",
    "    for i in range(N):\n",
    "        Xtilde[i] = np.random.normal(Xm[i], np.sqrt(P[i]))\n",
    "    return Xtilde"
   ]
  },
  {
   "cell_type": "code",
   "execution_count": 11,
   "metadata": {
    "collapsed": true
   },
   "outputs": [],
   "source": [
    "def calc_weights(Xtilde, X, Y, Xm, P, t, N):\n",
    "    # calculate unnormalized weights\n",
    "    wtilde = np.zeros(N)\n",
    "    for i in range(N):\n",
    "        p_Xtilde = scipy.stats.norm.logpdf(Xtilde[i], loc=Xm[i], scale=np.sqrt(P[i]))\n",
    "        p_obs = observation_density(Y, Xtilde[i], t)\n",
    "        p_trans = transition_density(Xtilde[i], X[i], t)\n",
    "        wtilde[i] = p_obs + p_trans - p_Xtilde\n",
    "\n",
    "    # normalize weights\n",
    "    ix = ~(np.isnan(wtilde) | np.isinf(wtilde))\n",
    "    w = np.zeros(N)\n",
    "    w[ix] = np.exp(wtilde[ix] - scipy.misc.logsumexp(wtilde[ix]))\n",
    "    w /= np.sum(w)\n",
    "    \n",
    "    return w"
   ]
  },
  {
   "cell_type": "code",
   "execution_count": 12,
   "metadata": {
    "collapsed": false
   },
   "outputs": [],
   "source": [
    "def unscented_particle_filter(Y, N=200, alpha=1, beta=0, kappa=2):\n",
    "    # PF initialization\n",
    "    Y = np.concatenate([[0], Y])\n",
    "    X = np.zeros((len(Y), N))\n",
    "    w = np.ones((len(Y), N)) / N\n",
    "    for i in range(N):\n",
    "        X[0, i] = np.random.randn() + 1\n",
    "\n",
    "    # UKF initialization\n",
    "    Xm = np.zeros((len(Y), N))\n",
    "    Xm[0, :] = X[0].copy()\n",
    "    P = np.zeros((len(Y), N))\n",
    "    P[0, :] = 1\n",
    "\n",
    "    for t in range(1, len(Y)):\n",
    "        for i in range(N):\n",
    "            # perform kalman update\n",
    "            Xm[t, i], P[t, i] = unscented_update(Xm[t - 1, i], P[t - 1, i], Y[t], t)\n",
    "\n",
    "        # propagate particles and calculate weights\n",
    "        Xtilde = propagate(Xm[t], P[t], N)\n",
    "        wtilde = calc_weights(Xtilde, X[t - 1], Y[t - 1], Xm[t], P[t], t, N)\n",
    "\n",
    "        # resample particles\n",
    "        idx = np.random.choice(np.arange(N), size=N, p=wtilde)\n",
    "        X[t] = Xtilde[idx]\n",
    "        w[t] = wtilde[idx]\n",
    "        Xm[t] = Xm[t, idx]\n",
    "        P[t] = P[t, idx]\n",
    "\n",
    "        # MCMC step\n",
    "        for i in range(N):\n",
    "            u = np.random.rand()\n",
    "            x = transition(X[t - 1, i], t)\n",
    "            p_x = np.exp(observation_density(Y[t], x, t))\n",
    "            p_xtilde = np.exp(observation_density(Y[t], X[t, i], t))\n",
    "            if u <= min(1, p_x / p_xtilde):\n",
    "                X[t, i] = x\n",
    "                Xm[t, i] = x\n",
    "                P[t, i] = 1\n",
    "\n",
    "    return X, w, Xm, P"
   ]
  },
  {
   "cell_type": "code",
   "execution_count": 13,
   "metadata": {
    "collapsed": false
   },
   "outputs": [
    {
     "name": "stderr",
     "output_type": "stream",
     "text": [
      "/Users/jhamrick/miniconda3/lib/python3.5/site-packages/ipykernel/__main__.py:37: RuntimeWarning: invalid value encountered in double_scalars\n",
      "/Users/jhamrick/miniconda3/lib/python3.5/site-packages/ipykernel/__main__.py:37: RuntimeWarning: divide by zero encountered in double_scalars\n"
     ]
    }
   ],
   "source": [
    "unscented_particles = unscented_particle_filter(Yorig)\n",
    "unscented_Xest = unscented_particles[0][1:].mean(axis=1)"
   ]
  },
  {
   "cell_type": "code",
   "execution_count": 14,
   "metadata": {
    "collapsed": false
   },
   "outputs": [
    {
     "data": {
      "text/plain": [
       "<matplotlib.legend.Legend at 0x107fd5ac8>"
      ]
     },
     "execution_count": 14,
     "metadata": {},
     "output_type": "execute_result"
    },
    {
     "data": {
      "image/png": "[encoded data removed]",
      "text/plain": [
       "<matplotlib.figure.Figure at 0x107f9d240>"
      ]
     },
     "metadata": {},
     "output_type": "display_data"
    }
   ],
   "source": [
    "fig, ax = plt.subplots()\n",
    "ax.plot(np.arange(60) + 1, Xorig, 'ko', label='True x')\n",
    "ax.plot(np.arange(60) + 1, Xest, 'r-', label='PF')\n",
    "ax.plot(np.arange(60) + 1, unscented_Xest, 'b-', label='UPF')\n",
    "ax.set_xlabel('Time')\n",
    "ax.set_ylabel('E[X]')\n",
    "ax.legend(loc='best')"
   ]
  }
 ],
 "metadata": {
  "kernelspec": {
   "display_name": "Python 3",
   "language": "python",
   "name": "python3"
  },
  "language_info": {
   "codemirror_mode": {
    "name": "ipython",
    "version": 3
   },
   "file_extension": ".py",
   "mimetype": "text/x-python",
   "name": "python",
   "nbconvert_exporter": "python",
   "pygments_lexer": "ipython3",
   "version": "3.5.1"
  }
 },
 "nbformat": 4,
 "nbformat_minor": 0
}
